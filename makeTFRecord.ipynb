{
 "cells": [
  {
   "cell_type": "code",
   "execution_count": 1,
   "metadata": {},
   "outputs": [
    {
     "name": "stdout",
     "output_type": "stream",
     "text": [
      "1.13.1\n"
     ]
    }
   ],
   "source": [
    "import os\n",
    "import numpy as np\n",
    "import tensorflow as tf\n",
    "import matplotlib.pyplot as plt\n",
    "from PIL import Image\n",
    "from itertools import permutations\n",
    "import random\n",
    "\n",
    "print(tf.__version__)"
   ]
  },
  {
   "cell_type": "code",
   "execution_count": 2,
   "metadata": {},
   "outputs": [],
   "source": [
    "img_width = 224\n",
    "img_height = 224\n"
   ]
  },
  {
   "cell_type": "code",
   "execution_count": 3,
   "metadata": {},
   "outputs": [
    {
     "name": "stdout",
     "output_type": "stream",
     "text": [
      "C:\\Users\\beplu\\Desktop\\ForJupyter\\SimpleFaceNet\n"
     ]
    }
   ],
   "source": [
    "tfrecord_train = 'facenet_train.tfrecord'\n",
    "tfrecord_test = 'facenet_test.tfrecord'\n",
    "tfrecord_dir = 'tfrecords'\n",
    "\n",
    "print(os.getcwd())\n",
    "if not os.path.exists(tfrecord_dir):\n",
    "    os.makedirs(tfrecord_dir)"
   ]
  },
  {
   "cell_type": "code",
   "execution_count": 4,
   "metadata": {},
   "outputs": [
    {
     "name": "stdout",
     "output_type": "stream",
     "text": [
      "True\n",
      "True\n"
     ]
    }
   ],
   "source": [
    "# 사람 이름 뽑아내기\n",
    "pic_path = os.path.join(os.getcwd(), 'picture\\\\WholeDS')\n",
    "anc_pos_path = os.path.join(os.getcwd(), 'picture\\\\MoreThanTwo')\n",
    "print(os.path.exists(pic_path))\n",
    "print(os.path.exists(anc_pos_path))"
   ]
  },
  {
   "cell_type": "code",
   "execution_count": 5,
   "metadata": {},
   "outputs": [],
   "source": [
    "whole_categories = sorted(os.listdir(pic_path))\n",
    "anc_pos_categories = sorted(os.listdir(anc_pos_path))"
   ]
  },
  {
   "cell_type": "code",
   "execution_count": 6,
   "metadata": {},
   "outputs": [
    {
     "name": "stdout",
     "output_type": "stream",
     "text": [
      "1680\n",
      "1680\n",
      "['C:\\\\Users\\\\beplu\\\\Desktop\\\\ForJupyter\\\\SimpleFaceNet\\\\picture\\\\MoreThanTwo\\\\Aaron_Peirsol\\\\Aaron_Peirsol_0003.jpg', 'C:\\\\Users\\\\beplu\\\\Desktop\\\\ForJupyter\\\\SimpleFaceNet\\\\picture\\\\MoreThanTwo\\\\Aaron_Peirsol\\\\Aaron_Peirsol_0001.jpg']\n",
      "['C:\\\\Users\\\\beplu\\\\Desktop\\\\ForJupyter\\\\SimpleFaceNet\\\\picture\\\\WholeDS\\\\Chea_Sophara\\\\Chea_Sophara_0001.jpg', 'C:\\\\Users\\\\beplu\\\\Desktop\\\\ForJupyter\\\\SimpleFaceNet\\\\picture\\\\WholeDS\\\\Andrew_Bunner\\\\Andrew_Bunner_0001.jpg', 'C:\\\\Users\\\\beplu\\\\Desktop\\\\ForJupyter\\\\SimpleFaceNet\\\\picture\\\\WholeDS\\\\Jaromir_Jagr\\\\Jaromir_Jagr_0001.jpg', 'C:\\\\Users\\\\beplu\\\\Desktop\\\\ForJupyter\\\\SimpleFaceNet\\\\picture\\\\WholeDS\\\\Ed_Book\\\\Ed_Book_0001.jpg', 'C:\\\\Users\\\\beplu\\\\Desktop\\\\ForJupyter\\\\SimpleFaceNet\\\\picture\\\\WholeDS\\\\Elizabeth_Smart\\\\Elizabeth_Smart_0002.jpg', 'C:\\\\Users\\\\beplu\\\\Desktop\\\\ForJupyter\\\\SimpleFaceNet\\\\picture\\\\WholeDS\\\\Markus_Naslund\\\\Markus_Naslund_0001.jpg', 'C:\\\\Users\\\\beplu\\\\Desktop\\\\ForJupyter\\\\SimpleFaceNet\\\\picture\\\\WholeDS\\\\Nelson_Shanks\\\\Nelson_Shanks_0001.jpg', 'C:\\\\Users\\\\beplu\\\\Desktop\\\\ForJupyter\\\\SimpleFaceNet\\\\picture\\\\WholeDS\\\\Richard_Cohen\\\\Richard_Cohen_0001.jpg', 'C:\\\\Users\\\\beplu\\\\Desktop\\\\ForJupyter\\\\SimpleFaceNet\\\\picture\\\\WholeDS\\\\Mohammad_Al-Sharief\\\\Mohammad_Al-Sharief_0001.jpg', 'C:\\\\Users\\\\beplu\\\\Desktop\\\\ForJupyter\\\\SimpleFaceNet\\\\picture\\\\WholeDS\\\\Alexandra_Rozovskaya\\\\Alexandra_Rozovskaya_0001.jpg', 'C:\\\\Users\\\\beplu\\\\Desktop\\\\ForJupyter\\\\SimpleFaceNet\\\\picture\\\\WholeDS\\\\Roger_Daltrey\\\\Roger_Daltrey_0001.jpg', 'C:\\\\Users\\\\beplu\\\\Desktop\\\\ForJupyter\\\\SimpleFaceNet\\\\picture\\\\WholeDS\\\\Benjamin_Netanyahu\\\\Benjamin_Netanyahu_0005.jpg', 'C:\\\\Users\\\\beplu\\\\Desktop\\\\ForJupyter\\\\SimpleFaceNet\\\\picture\\\\WholeDS\\\\Teri_Garr\\\\Teri_Garr_0001.jpg', 'C:\\\\Users\\\\beplu\\\\Desktop\\\\ForJupyter\\\\SimpleFaceNet\\\\picture\\\\WholeDS\\\\Danny_Glover\\\\Danny_Glover_0001.jpg', 'C:\\\\Users\\\\beplu\\\\Desktop\\\\ForJupyter\\\\SimpleFaceNet\\\\picture\\\\WholeDS\\\\Ben_Wallace\\\\Ben_Wallace_0001.jpg']\n"
     ]
    }
   ],
   "source": [
    "anc_pos_set = []\n",
    "neg_set = []\n",
    "for category in anc_pos_categories:\n",
    "    #print(os.listdir(os.path.join(anc_pos_path, category)))\n",
    "    rnd_list1 = random.sample(os.listdir(os.path.join(anc_pos_path, category)), 2)\n",
    "    rnd_list1[0] = os.path.join(anc_pos_path, category, rnd_list1[0])\n",
    "    rnd_list1[1] = os.path.join(anc_pos_path, category, rnd_list1[1])\n",
    "    #temp = random.sample(os.listdir(os.path.join(anc_pos_path, category)), 2)\n",
    "    temp_list = whole_categories.copy()\n",
    "    temp_list.remove(category)\n",
    "    ran_list = random.sample(temp_list, 15)\n",
    "    container_list = []\n",
    "    for neg_category in ran_list:\n",
    "        rnd_list = random.sample(os.listdir(os.path.join(pic_path, neg_category)), 1)\n",
    "        rnd_list[0] = os.path.join(pic_path, neg_category, rnd_list[0])\n",
    "        container_list.append(rnd_list[0])\n",
    "    \n",
    "    #flatten 2D -> 1D\n",
    "    #container_list = sum(container_list, [])\n",
    "    #print(container_list)\n",
    "\n",
    "    anc_pos_set.append(rnd_list1)\n",
    "    neg_set.append(container_list)\n",
    "\n",
    "print(len(anc_pos_set))\n",
    "print(len(neg_set))\n",
    "print(anc_pos_set[0])\n",
    "print(neg_set[0])    \n",
    "    "
   ]
  },
  {
   "cell_type": "code",
   "execution_count": 7,
   "metadata": {},
   "outputs": [
    {
     "name": "stdout",
     "output_type": "stream",
     "text": [
      "C:\\Users\\beplu\\Desktop\\ForJupyter\\SimpleFaceNet\\tfrecords\\facenet_train.tfrecord\n"
     ]
    }
   ],
   "source": [
    "# tfrecord file 경로 설정\n",
    "train_tfr_path = os.path.join(os.getcwd(), tfrecord_dir, tfrecord_train)\n",
    "print(train_tfr_path)\n",
    "\n",
    "# tfrecord writer\n",
    "writer_train = tf.python_io.TFRecordWriter(train_tfr_path)"
   ]
  },
  {
   "cell_type": "code",
   "execution_count": 8,
   "metadata": {},
   "outputs": [],
   "source": [
    "def _int64_feature(value):\n",
    "    return tf.train.Feature(int64_list=tf.train.Int64List(value=[value]))\n",
    "\n",
    "def _bytes_feature(value):\n",
    "    return tf.train.Feature(bytes_list=tf.train.BytesList(value=[value]))"
   ]
  },
  {
   "cell_type": "code",
   "execution_count": 12,
   "metadata": {},
   "outputs": [],
   "source": [
    "index_list = [i for i in range(len(anc_pos_set))]\n",
    "index_list = np.random.permutation(index_list)\n",
    "# training set을 tfrecord로 저장\n",
    "for index in index_list:\n",
    "    anchor_path = anc_pos_set[index][0]\n",
    "    pos_path = anc_pos_set[index][1]\n",
    "    neg_path_bundle = neg_set[index]\n",
    "    \n",
    "    anc_image = Image.open(anchor_path)\n",
    "    anc_image = anc_image.resize((img_height, img_width))\n",
    "    anc_image = np.asarray(anc_image)\n",
    "    \n",
    "    pos_image = Image.open(pos_path)\n",
    "    pos_image = pos_image.resize((img_height, img_width))\n",
    "    pos_image = np.asarray(pos_image)\n",
    "    \n",
    "    neg_list = []\n",
    "    for neg_path in neg_path_bundle:\n",
    "        neg_image = Image.open(neg_path)\n",
    "        neg_image = neg_image.resize((img_height, img_width))\n",
    "        neg_image = np.asarray(neg_image)\n",
    "        #neg_image_str = neg_image.tobytes()\n",
    "        neg_list.append(neg_image)\n",
    "    neg_list = np.asarray(neg_list)\n",
    "    #print(np.shape(neg_list))\n",
    "    anc_image_str = anc_image.tobytes()\n",
    "    pos_image_str = pos_image.tobytes()\n",
    "    neg_image_str = neg_list.tobytes()\n",
    "    \n",
    "    example = tf.train.Example(features=tf.train.Features(feature={\n",
    "        'anc_image' : _bytes_feature(anc_image_str),\n",
    "        'pos_image' : _bytes_feature(pos_image_str),\n",
    "        'neg_image_bundle' : _bytes_feature(neg_image_str)\n",
    "    }))\n",
    "    \n",
    "    writer_train.write(example.SerializeToString())\n",
    "    \n",
    "    "
   ]
  },
  {
   "cell_type": "code",
   "execution_count": 13,
   "metadata": {},
   "outputs": [],
   "source": [
    "writer_train.close()"
   ]
  },
  {
   "cell_type": "code",
   "execution_count": null,
   "metadata": {},
   "outputs": [],
   "source": []
  }
 ],
 "metadata": {
  "kernelspec": {
   "display_name": "Python 3",
   "language": "python",
   "name": "python3"
  },
  "language_info": {
   "codemirror_mode": {
    "name": "ipython",
    "version": 3
   },
   "file_extension": ".py",
   "mimetype": "text/x-python",
   "name": "python",
   "nbconvert_exporter": "python",
   "pygments_lexer": "ipython3",
   "version": "3.7.1"
  }
 },
 "nbformat": 4,
 "nbformat_minor": 2
}
